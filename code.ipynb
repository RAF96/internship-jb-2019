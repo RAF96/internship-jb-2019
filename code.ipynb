{
 "cells": [
  {
   "cell_type": "markdown",
   "metadata": {},
   "source": [
    "# Solve"
   ]
  },
  {
   "cell_type": "markdown",
   "metadata": {},
   "source": [
    "MAXVALUE = 1e6"
   ]
  },
  {
   "cell_type": "markdown",
   "metadata": {},
   "source": [
    "$ money_{n, r, i} $ - Цена, по которой купил человек n, из региона r, товар i. $ money \\in [0, MAXVALUE) $\n",
    "\n",
    "$ buy_{n, i} $ - бинарная переменная. Купил ли человек n, товар i.\n",
    "\n",
    "$ greater\\_equal_{n, k} $ где $ k \\in {0, 1000, 2000, ... 6000}$ - бинарная переменная. Клиент потратил больше или равно k денег\n",
    "\n",
    "$ less\\_equal_{n, k} $ где $ k \\in {-1, 999, 1999, 2999, 3999, 4999, 5999}$ - бинарная переменная. Клиент потратил <= k денег\n",
    "\n",
    "$ nat_{n, r} $ - бинарная переменная, относится ли клиент n, к региону r"
   ]
  },
  {
   "cell_type": "markdown",
   "metadata": {},
   "source": [
    "$ n \\in [0, 95)$\n",
    "\n",
    "$ r \\in [0, 3) $\n",
    "\n",
    "$ i \\in [0, 5) $\n",
    "\n",
    "[comment]: # ( $ p \\in [0, MAX\\_PRICE + 1) $)\n",
    "\n",
    "\n",
    "|n| * |r| * |i| = 1425"
   ]
  },
  {
   "cell_type": "markdown",
   "metadata": {},
   "source": [
    "# Functions"
   ]
  },
  {
   "cell_type": "markdown",
   "metadata": {},
   "source": [
    "Потраченные деньги\n",
    "\n",
    "$ \\sum_{n,r,i} money_{n, r, i} $"
   ]
  },
  {
   "cell_type": "markdown",
   "metadata": {},
   "source": [
    "Потраченные деньги на каждый товар в каждом регионе\n",
    "\n",
    "$\\forall n, r \\sum_{i} money_{n, r, i} $"
   ]
  },
  {
   "cell_type": "markdown",
   "metadata": {},
   "source": [
    "# Relationships"
   ]
  },
  {
   "cell_type": "markdown",
   "metadata": {},
   "source": [
    "Связь money и greater\\_equal\n",
    "\n",
    "$ \\forall n, k \\sum_{r, i} money_{n, r, i} >= greater\\_equal_{n, k} * k $ "
   ]
  },
  {
   "cell_type": "markdown",
   "metadata": {},
   "source": [
    "Связь money и less\\_equal\n",
    "\n",
    "$ \\forall n, k \\sum_{r, i} money_{n, r, i} <= MAXVALUE  - (MAXVALUE - k) * less\\_equal_{n, k} $ "
   ]
  },
  {
   "cell_type": "markdown",
   "metadata": {},
   "source": [
    "Таблица 1\n",
    "\n",
    "$ table1\\_n= [32, 38, 10, 8, 2, 2, 3]$\n",
    "\n",
    "$ \\forall t : table1\\_n\\_sum= \\sum_{i = 0}^{ i < t} table1\\_n_i$"
   ]
  },
  {
   "cell_type": "markdown",
   "metadata": {},
   "source": [
    "Связь из таблицы 1\n",
    "\n",
    "$ \\forall_{index} \\sum_{n} greater\\_equal_{n, k_{index}} = 95 - table1\\_n\\_sum_{index}$ \n",
    "\n",
    "$ \\forall_{index} \\sum_{n} less\\_equal_{n, k_{index}} = table1\\_n\\_sum_{index} $ "
   ]
  },
  {
   "cell_type": "markdown",
   "metadata": {},
   "source": [
    "$ \\forall n, k : less\\_equal_{n, k}  + greater\\_equal_{n, k} >= 1 $\n",
    "\n",
    "$ \\forall n : \\sum_{k} less\\_equal_{n, k}  + greater\\_equal_{n, k} = len_k $\n",
    "\n",
    "$ \\forall n, k : less\\_equal_{n, k}  <= less\\_equal_{n, nextk} $\n",
    "\n",
    "$ \\forall n, k : greater\\_equal_{n, k}  >= greater\\_equal_{n, nextk} $"
   ]
  },
  {
   "cell_type": "markdown",
   "metadata": {},
   "source": [
    "Таблицы 2\n",
    "\n",
    "$ seg_1 = [33.000, 36.000] $\n",
    "\n",
    "$ seg_2 = [120.000, 125.000] $\n",
    "\n",
    "$ seg_3 = [10.000, 13.000] $\n",
    "\n",
    "$ table2\\_n = [22, 60, 13] $"
   ]
  },
  {
   "cell_type": "markdown",
   "metadata": {},
   "source": [
    "Связь из таблицы 2\n",
    "\n",
    "$ \\forall r  : \\sum_{n, i} money_{n, r, i} \\in seg_r $\n"
   ]
  },
  {
   "cell_type": "markdown",
   "metadata": {},
   "source": [
    "Связь переменных money с регионами\n",
    "\n",
    "$ \\forall n, r \\sum_{i} money_{n, r, i} <=  nat_{n, r} * MAXVALUE $"
   ]
  },
  {
   "cell_type": "markdown",
   "metadata": {},
   "source": [
    "Ограничения nat\n",
    "\n",
    "$ \\forall n \\sum_{r} nat_{n, r} = 1 $\n",
    "\n",
    "$ \\forall r \\sum_{n} nat_{n, r} = table2\\_n_{r} $"
   ]
  },
  {
   "cell_type": "markdown",
   "metadata": {},
   "source": [
    "Таблица 3\n",
    "\n"
   ]
  },
  {
   "cell_type": "markdown",
   "metadata": {},
   "source": [
    "\n",
    "$ seg_1 = [4.000, 6.000] $\n",
    "\n",
    "$ seg_2 = [28.000, 30.000] $\n",
    "\n",
    "$ seg_3 = [105.000, 109.000] $\n",
    "\n",
    "$ seg_4 =  [16.000, 18.000] $\n",
    "\n",
    "$ seg_5 =  [10.000, 12.000] $\n",
    "\n",
    "$ table3\\_n = [77, 87, 95, 91, 51] $\n"
   ]
  },
  {
   "cell_type": "markdown",
   "metadata": {},
   "source": [
    "Ограничения money по сумме в соответствии с товаром\n",
    "\n",
    "$ \\forall i \\sum_{n, r} money_{n, r, i} \\in seg_{r} $"
   ]
  },
  {
   "cell_type": "markdown",
   "metadata": {},
   "source": [
    "Ограничения buy\n",
    "\n",
    "$ \\forall i \\sum_{n} buy_{n, i} = table3\\_n_{i} $"
   ]
  },
  {
   "cell_type": "markdown",
   "metadata": {},
   "source": [
    "Связь money с buy\n",
    "\n",
    "$ \\forall n, i : \\sum_{r} money_{n, r, i} <=  buy_{n, i} * MAXVALUE $"
   ]
  },
  {
   "cell_type": "markdown",
   "metadata": {},
   "source": [
    "Итоговое количество переменных: ~ 3800"
   ]
  },
  {
   "cell_type": "markdown",
   "metadata": {},
   "source": [
    "# Code"
   ]
  },
  {
   "cell_type": "code",
   "execution_count": 1,
   "metadata": {},
   "outputs": [],
   "source": [
    "import time\n"
   ]
  },
  {
   "cell_type": "code",
   "execution_count": 2,
   "metadata": {},
   "outputs": [],
   "source": [
    "from pulp import *\n",
    "import numpy as np\n",
    "import random\n",
    "import pandas as pd"
   ]
  },
  {
   "cell_type": "code",
   "execution_count": 3,
   "metadata": {},
   "outputs": [],
   "source": [
    "MAXVALUE = 1e6"
   ]
  },
  {
   "cell_type": "code",
   "execution_count": 4,
   "metadata": {},
   "outputs": [],
   "source": [
    "len_n = 95\n",
    "len_r = 3\n",
    "len_i = 5\n",
    "len_k = 7\n",
    "greater_equal_border = list(map(lambda x: x * 1000, range(0, len_k)))\n",
    "less_equal_border = list(map(lambda x: x * 1000 - 1, range(0, len_k)))"
   ]
  },
  {
   "cell_type": "code",
   "execution_count": 5,
   "metadata": {},
   "outputs": [
    {
     "data": {
      "text/plain": [
       "[0, 1000, 2000, 3000, 4000, 5000, 6000]"
      ]
     },
     "execution_count": 5,
     "metadata": {},
     "output_type": "execute_result"
    }
   ],
   "source": [
    "greater_equal_border\n"
   ]
  },
  {
   "cell_type": "code",
   "execution_count": 6,
   "metadata": {},
   "outputs": [
    {
     "data": {
      "text/plain": [
       "[-1, 999, 1999, 2999, 3999, 4999, 5999]"
      ]
     },
     "execution_count": 6,
     "metadata": {},
     "output_type": "execute_result"
    }
   ],
   "source": [
    "less_equal_border"
   ]
  },
  {
   "cell_type": "markdown",
   "metadata": {},
   "source": [
    "# Var"
   ]
  },
  {
   "cell_type": "code",
   "execution_count": 7,
   "metadata": {},
   "outputs": [],
   "source": [
    "def money(*, n, r, i):\n",
    "    return _money[n][r][i]"
   ]
  },
  {
   "cell_type": "code",
   "execution_count": 8,
   "metadata": {},
   "outputs": [],
   "source": [
    "_money = np.ndarray((len_n, len_r, len_i), dtype=object)\n",
    "\n",
    "for n in range(len_n):\n",
    "    for r in range(len_r):\n",
    "        for i in range(len_i):\n",
    "            _money[n, r, i] = LpVariable(\"money_{}_{}_{}\".format(n, r, i), 0, MAXVALUE, cat='Continuous')"
   ]
  },
  {
   "cell_type": "code",
   "execution_count": 9,
   "metadata": {},
   "outputs": [],
   "source": [
    "def buy(*, n, i):\n",
    "    return _buy[n][i]"
   ]
  },
  {
   "cell_type": "code",
   "execution_count": 10,
   "metadata": {},
   "outputs": [],
   "source": [
    "_buy = np.ndarray((len_n, len_i), dtype=object)\n",
    "\n",
    "for n in range(len_n):\n",
    "    for i in range(len_i):\n",
    "        _buy[n, i] = LpVariable(\"buy_{}_{}\".format(n, i), cat='Binary')"
   ]
  },
  {
   "cell_type": "code",
   "execution_count": 11,
   "metadata": {},
   "outputs": [],
   "source": [
    "def greater_equal(*, n, k):\n",
    "    return _greater_equal[n][k]"
   ]
  },
  {
   "cell_type": "code",
   "execution_count": 12,
   "metadata": {},
   "outputs": [],
   "source": [
    "_greater_equal = np.ndarray((len_n, len_k), dtype=object)\n",
    "\n",
    "for n in range(len_n):\n",
    "    for k in range(len_k):\n",
    "        _greater_equal[n, k] = LpVariable(\"greater_equal_{}_{}\".format(n, k),cat='Binary')"
   ]
  },
  {
   "cell_type": "code",
   "execution_count": 13,
   "metadata": {},
   "outputs": [],
   "source": [
    "def less_equal(*, n, k):\n",
    "    return _less_equal[n][k]"
   ]
  },
  {
   "cell_type": "code",
   "execution_count": 14,
   "metadata": {},
   "outputs": [],
   "source": [
    "_less_equal = np.ndarray((len_n, len_k), dtype=object)\n",
    "\n",
    "for n in range(len_n):\n",
    "    for k in range(len_k):\n",
    "        _less_equal[n, k] = LpVariable(\"less_equal_{}_{}\".format(n, k),cat='Binary')"
   ]
  },
  {
   "cell_type": "code",
   "execution_count": 15,
   "metadata": {},
   "outputs": [],
   "source": [
    "def nat(*, n, r):\n",
    "    return _nat[n][r]"
   ]
  },
  {
   "cell_type": "code",
   "execution_count": 16,
   "metadata": {},
   "outputs": [],
   "source": [
    "_nat = np.ndarray((len_n, len_r), dtype=object)\n",
    "\n",
    "for n in range(len_n):\n",
    "    for r in range(len_r):\n",
    "        _nat[n, r] = LpVariable(\"nat_{}_{}\".format(n, r),cat='Binary')"
   ]
  },
  {
   "cell_type": "markdown",
   "metadata": {},
   "source": [
    "# Relationships"
   ]
  },
  {
   "cell_type": "code",
   "execution_count": 17,
   "metadata": {},
   "outputs": [],
   "source": [
    "prob = LpProblem('task', LpMaximize)\n",
    "\n",
    "prob += lpSum(_money)"
   ]
  },
  {
   "cell_type": "code",
   "execution_count": 18,
   "metadata": {},
   "outputs": [],
   "source": [
    "for n in range(len_n):\n",
    "    for k in range(len_k):\n",
    "        prob += lpSum(list(money(n=n, r=r, i=i) \\\n",
    "                           for r in range(len_r) \\\n",
    "                           for i in range(len_i))) \\\n",
    "                >= greater_equal(n=n, k=k) * greater_equal_border[k]"
   ]
  },
  {
   "cell_type": "code",
   "execution_count": 19,
   "metadata": {},
   "outputs": [],
   "source": [
    "for n in range(len_n):\n",
    "    for k in range(len_k):\n",
    "        prob += lpSum(list(money(n=n, r=r, i=i) \\\n",
    "                           for r in range(len_r) \\\n",
    "                           for i in range(len_i))) \\\n",
    "                <= MAXVALUE - \\\n",
    "                (MAXVALUE -less_equal_border[k]) \\\n",
    "                * less_equal(n=n, k=k)"
   ]
  },
  {
   "cell_type": "code",
   "execution_count": 20,
   "metadata": {},
   "outputs": [],
   "source": [
    "table1_n = [32, 38, 10, 8, 2, 2, 3]"
   ]
  },
  {
   "cell_type": "code",
   "execution_count": 21,
   "metadata": {},
   "outputs": [
    {
     "data": {
      "text/plain": [
       "[0, 32, 70, 80, 88, 90, 92, 95]"
      ]
     },
     "execution_count": 21,
     "metadata": {},
     "output_type": "execute_result"
    }
   ],
   "source": [
    "table1_n_sum = [sum(table1_n[0:i]) for i in range(len(table1_n) + 1)]\n",
    "table1_n_sum"
   ]
  },
  {
   "cell_type": "code",
   "execution_count": 22,
   "metadata": {},
   "outputs": [],
   "source": [
    "for k in range(len_k):\n",
    "    prob += lpSum([greater_equal(n=n, k=k) \\\n",
    "                   for n in range(len_n)]) \\\n",
    "            == 95 - table1_n_sum[k]"
   ]
  },
  {
   "cell_type": "code",
   "execution_count": 23,
   "metadata": {},
   "outputs": [],
   "source": [
    "for k in range(len_k):\n",
    "    prob += lpSum([less_equal(n=n, k=k) \\\n",
    "                   for n in range(len_n)]) \\\n",
    "            == table1_n_sum[k]"
   ]
  },
  {
   "cell_type": "code",
   "execution_count": 24,
   "metadata": {},
   "outputs": [],
   "source": [
    "for n in range(len_n):\n",
    "    prob += lpSum([less_equal(n=n, k=k) + greater_equal(n=n, k=k) \\\n",
    "                   for k in range(len_k)]) \\\n",
    "            == len_k"
   ]
  },
  {
   "cell_type": "code",
   "execution_count": 25,
   "metadata": {},
   "outputs": [],
   "source": [
    "for n in range(len_n):\n",
    "    for k in range(len_k - 1):\n",
    "        prob += less_equal(n=n, k=k) <= less_equal(n=n, k=k+1) "
   ]
  },
  {
   "cell_type": "code",
   "execution_count": 26,
   "metadata": {},
   "outputs": [],
   "source": [
    "for n in range(len_n):\n",
    "    for k in range(len_k - 1):\n",
    "        prob += greater_equal(n=n, k=k) >= greater_equal(n=n, k=k+1) "
   ]
  },
  {
   "cell_type": "code",
   "execution_count": 27,
   "metadata": {},
   "outputs": [],
   "source": [
    "seg_2 = [[33e3, 36e3],\n",
    "       [120e3, 125e3],\n",
    "       [10e3, 13e3]]\n",
    "table2_n = [22, 60, 13]"
   ]
  },
  {
   "cell_type": "code",
   "execution_count": 28,
   "metadata": {},
   "outputs": [],
   "source": [
    "for r in range(len_r):\n",
    "    prob += lpSum([money(n=n, r=r, i=i) for n in range(len_n) for i in range(len_i)] ) >= seg_2[r][0]\n",
    "    prob += lpSum([money(n=n, r=r, i=i) for n in range(len_n) for i in range(len_i)] ) <= seg_2[r][1]"
   ]
  },
  {
   "cell_type": "code",
   "execution_count": 29,
   "metadata": {},
   "outputs": [],
   "source": [
    "for r in range(len_r):\n",
    "    for n in range(len_n):\n",
    "        prob += lpSum([money(n=n, r=r, i=i) for i in range(len_i)]) <= nat(n=n, r=r) * MAXVALUE"
   ]
  },
  {
   "cell_type": "code",
   "execution_count": 30,
   "metadata": {},
   "outputs": [],
   "source": [
    "for n in range(len_n):\n",
    "    prob += lpSum([nat(n=n, r=r) for r in range(len_r)]) == 1"
   ]
  },
  {
   "cell_type": "code",
   "execution_count": 31,
   "metadata": {},
   "outputs": [],
   "source": [
    "for r in range(len_r):\n",
    "    prob += lpSum([nat(n=n, r=r) for n in range(len_n)]) == table2_n[r]"
   ]
  },
  {
   "cell_type": "code",
   "execution_count": 32,
   "metadata": {},
   "outputs": [],
   "source": [
    "seg_3 = [[4e3,6e3], \n",
    "         [28e3,30e3], \n",
    "         [105e3,109e3], \n",
    "         [16e3,18e3], \n",
    "         [10e3,12e3]] \n",
    "table3_n = [77,87,95,91,51]"
   ]
  },
  {
   "cell_type": "code",
   "execution_count": 33,
   "metadata": {},
   "outputs": [],
   "source": [
    "for i in range(len_i):\n",
    "    prob += lpSum([money(n=n,r=r,i=i) for r in range(len_r) for n in range(len_n)]) >= seg_3[i][0]\n",
    "    prob += lpSum([money(n=n,r=r,i=i) for r in range(len_r) for n in range(len_n)]) <= seg_3[i][1]"
   ]
  },
  {
   "cell_type": "code",
   "execution_count": 34,
   "metadata": {},
   "outputs": [],
   "source": [
    "for i in range(len_i):\n",
    "    prob += lpSum([buy(n=n,i=i) for n in range(len_n)]) == table3_n[i]"
   ]
  },
  {
   "cell_type": "code",
   "execution_count": 35,
   "metadata": {},
   "outputs": [],
   "source": [
    "for i in range(len_i):\n",
    "    for n in range(len_i):\n",
    "        prob += lpSum([money(n=n,r=r,i=i) for r in range(len_r)]) <= buy(n=n, i=i) * MAXVALUE"
   ]
  },
  {
   "cell_type": "code",
   "execution_count": 36,
   "metadata": {},
   "outputs": [
    {
     "data": {
      "text/plain": [
       "1"
      ]
     },
     "execution_count": 36,
     "metadata": {},
     "output_type": "execute_result"
    }
   ],
   "source": [
    "prob.solve()"
   ]
  },
  {
   "cell_type": "code",
   "execution_count": 37,
   "metadata": {},
   "outputs": [
    {
     "name": "stdout",
     "output_type": "stream",
     "text": [
      "Status: Optimal\n"
     ]
    }
   ],
   "source": [
    "print( \"Status:\", LpStatus[prob.status])"
   ]
  },
  {
   "cell_type": "code",
   "execution_count": 38,
   "metadata": {},
   "outputs": [],
   "source": [
    "# for v in prob.variables():\n",
    "#     print(v.name, \"=\", v.varValue)"
   ]
  },
  {
   "cell_type": "markdown",
   "metadata": {},
   "source": [
    "# Check"
   ]
  },
  {
   "cell_type": "code",
   "execution_count": 39,
   "metadata": {},
   "outputs": [
    {
     "data": {
      "text/plain": [
       "[32, 38, 10, 8, 2, 2, 3]"
      ]
     },
     "execution_count": 39,
     "metadata": {},
     "output_type": "execute_result"
    }
   ],
   "source": [
    "# First condition\n",
    "check_table1 = [0] * 7\n",
    "for n in range(len_n):\n",
    "    \n",
    "    def index_of_check_table(value):\n",
    "        index_of_check_table = min(int(value / 1e3), 6)\n",
    "        return index_of_check_table\n",
    "    \n",
    "    res = sum(money(n=n, r=r, i=i).value() for i in range(len_i) for r in range(len_r))\n",
    "    check_table1[index_of_check_table(res)] += 1\n",
    "check_table1"
   ]
  },
  {
   "cell_type": "code",
   "execution_count": 40,
   "metadata": {},
   "outputs": [
    {
     "name": "stdout",
     "output_type": "stream",
     "text": [
      "[22.0, 60.0, 13.0]\n",
      "[36000.0, 125000.0, 13000.0]\n"
     ]
    }
   ],
   "source": [
    "# Second condition\n",
    "check_table2_sum = [0] * 3\n",
    "check_table2_num = [0] * 3\n",
    "\n",
    "for r in range(len_r):\n",
    "    for n in range(len_n):\n",
    "        check_table2_num[r] += nat(n=n, r=r).value()\n",
    "        check_table2_sum[r] += sum(money(n=n, r=r, i=i).value() for i in range(len_i))\n",
    "        num_of_nat = sum(nat(n=n, r=r).value() for r in range(len_r))\n",
    "        if num_of_nat != 1:\n",
    "            print(\"Warning: number of nation for {} person is {}\".format(n, num_of_nat))\n",
    "        \n",
    "print(check_table2_num)\n",
    "print(check_table2_sum)"
   ]
  },
  {
   "cell_type": "code",
   "execution_count": 41,
   "metadata": {},
   "outputs": [
    {
     "name": "stdout",
     "output_type": "stream",
     "text": [
      "[77.0, 87.0, 95.0, 91.0, 51.0]\n",
      "[6000.0, 30000.0, 108000.0, 18000.0, 12000.0]\n"
     ]
    }
   ],
   "source": [
    "# Third condition\n",
    "check_table_3_sum = [0] * 5\n",
    "check_table_3_num = [0] * 5\n",
    "for i in range(len_i):\n",
    "    for n in range(len_n):\n",
    "        check_table_3_num[i] += buy(n=n, i=i).value()\n",
    "        check_table_3_sum[i] += sum(money(n=n,r=r,i=i).value() for r in range(len_r))\n",
    "        \n",
    "print(check_table_3_num)\n",
    "print(check_table_3_sum)"
   ]
  },
  {
   "cell_type": "code",
   "execution_count": 42,
   "metadata": {},
   "outputs": [
    {
     "name": "stdout",
     "output_type": "stream",
     "text": [
      "174000.0\n"
     ]
    }
   ],
   "source": [
    "# Result\n",
    "print(sum(money(n=n, r=r, i=i).value() for i in range(len_i) for r in range(len_r) for n in range(len_n)))"
   ]
  },
  {
   "cell_type": "code",
   "execution_count": 43,
   "metadata": {},
   "outputs": [],
   "source": [
    "data = pd.DataFrame([[sum(money(n=n, r=r, i=i).value()\n",
    "                     for n in range(len_n)) for i in range(len_i)] for r in range(len_r)], \n",
    "                    index=['EU', 'US', 'ROW'],\n",
    "                    columns=['A', 'B', 'C', 'D', 'X'])"
   ]
  },
  {
   "cell_type": "code",
   "execution_count": 44,
   "metadata": {},
   "outputs": [
    {
     "data": {
      "text/html": [
       "<div>\n",
       "<style scoped>\n",
       "    .dataframe tbody tr th:only-of-type {\n",
       "        vertical-align: middle;\n",
       "    }\n",
       "\n",
       "    .dataframe tbody tr th {\n",
       "        vertical-align: top;\n",
       "    }\n",
       "\n",
       "    .dataframe thead th {\n",
       "        text-align: right;\n",
       "    }\n",
       "</style>\n",
       "<table border=\"1\" class=\"dataframe\">\n",
       "  <thead>\n",
       "    <tr style=\"text-align: right;\">\n",
       "      <th></th>\n",
       "      <th>A</th>\n",
       "      <th>B</th>\n",
       "      <th>C</th>\n",
       "      <th>D</th>\n",
       "      <th>X</th>\n",
       "    </tr>\n",
       "  </thead>\n",
       "  <tbody>\n",
       "    <tr>\n",
       "      <th>EU</th>\n",
       "      <td>2001.0</td>\n",
       "      <td>10007.0</td>\n",
       "      <td>23992.0</td>\n",
       "      <td>0.0</td>\n",
       "      <td>0.0</td>\n",
       "    </tr>\n",
       "    <tr>\n",
       "      <th>US</th>\n",
       "      <td>2999.0</td>\n",
       "      <td>16993.0</td>\n",
       "      <td>77007.0</td>\n",
       "      <td>16001.0</td>\n",
       "      <td>12000.0</td>\n",
       "    </tr>\n",
       "    <tr>\n",
       "      <th>ROW</th>\n",
       "      <td>1000.0</td>\n",
       "      <td>3000.0</td>\n",
       "      <td>7001.0</td>\n",
       "      <td>1999.0</td>\n",
       "      <td>0.0</td>\n",
       "    </tr>\n",
       "  </tbody>\n",
       "</table>\n",
       "</div>"
      ],
      "text/plain": [
       "          A        B        C        D        X\n",
       "EU   2001.0  10007.0  23992.0      0.0      0.0\n",
       "US   2999.0  16993.0  77007.0  16001.0  12000.0\n",
       "ROW  1000.0   3000.0   7001.0   1999.0      0.0"
      ]
     },
     "execution_count": 44,
     "metadata": {},
     "output_type": "execute_result"
    }
   ],
   "source": [
    "data"
   ]
  },
  {
   "cell_type": "markdown",
   "metadata": {},
   "source": [
    "# Summary "
   ]
  },
  {
   "cell_type": "markdown",
   "metadata": {},
   "source": [
    "Результаты подходят под все ограничения.\n",
    "Модель находит результаты от 163e3 до 174e3."
   ]
  },
  {
   "cell_type": "markdown",
   "metadata": {},
   "source": [
    "# Особенности"
   ]
  },
  {
   "cell_type": "markdown",
   "metadata": {},
   "source": [
    "Визуально заметно, что переменная buy, то-есть ограничение по количесвту покупок, плохо взаимосвязано с количество потраченных денег. Так, встречаются данные, в которых человек купил все товары, но при этом суммарно потратил 0. То-есть как-будто получил все бесплатно. С другой стороны, по имеющимся данным, кажется такая ситуация вполне возможна и ей не стоит пренебрегать или ограничивать."
   ]
  },
  {
   "cell_type": "code",
   "execution_count": null,
   "metadata": {},
   "outputs": [],
   "source": []
  }
 ],
 "metadata": {
  "kernelspec": {
   "display_name": "Python 3",
   "language": "python",
   "name": "python3"
  },
  "language_info": {
   "codemirror_mode": {
    "name": "ipython",
    "version": 3
   },
   "file_extension": ".py",
   "mimetype": "text/x-python",
   "name": "python",
   "nbconvert_exporter": "python",
   "pygments_lexer": "ipython3",
   "version": "3.7.3"
  }
 },
 "nbformat": 4,
 "nbformat_minor": 2
}
